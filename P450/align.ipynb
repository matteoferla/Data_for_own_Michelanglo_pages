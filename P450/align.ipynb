{
 "cells": [
  {
   "cell_type": "code",
   "execution_count": 1,
   "metadata": {},
   "outputs": [],
   "source": [
    "### No apostrophe please\n",
    "import os\n",
    "\n",
    "for file in os.listdir():\n",
    "    if '.pdb' in file:\n",
    "        os.rename(file, file.replace(\"'\",''))"
   ]
  },
  {
   "cell_type": "code",
   "execution_count": 2,
   "metadata": {},
   "outputs": [],
   "source": [
    "import pymol2\n",
    "\n",
    "for file in os.listdir():\n",
    "    if '.pdb' in file:\n",
    "        with pymol2.PyMOL() as pymol:\n",
    "            pymol.cmd.load('Lorenzo DAmore - F87A-TES2.pdb', 'ref')\n",
    "            pymol.cmd.load(file, 'mobile')\n",
    "            pymol.cmd.align('mobile', 'ref')\n",
    "            pymol.cmd.delete('ref')\n",
    "            pymol.cmd.save(file, 'mobile')"
   ]
  },
  {
   "cell_type": "code",
   "execution_count": null,
   "metadata": {},
   "outputs": [],
   "source": []
  }
 ],
 "metadata": {
  "kernelspec": {
   "display_name": "Python 3",
   "language": "python",
   "name": "python3"
  },
  "language_info": {
   "codemirror_mode": {
    "name": "ipython",
    "version": 3
   },
   "file_extension": ".py",
   "mimetype": "text/x-python",
   "name": "python",
   "nbconvert_exporter": "python",
   "pygments_lexer": "ipython3",
   "version": "3.7.6"
  }
 },
 "nbformat": 4,
 "nbformat_minor": 4
}
